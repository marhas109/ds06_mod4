{
 "cells": [
  {
   "cell_type": "markdown",
   "id": "7b688af8",
   "metadata": {},
   "source": [
    "A junior data scientist at a real estate company is tasked with predicting house prices based on multiple factors. The company wants to understand how variables like square footage, number of bedrooms, and age of the house affect house prices. The data scientist decides to use Multiple Linear Regression to analyze the relationship.\n",
    "\n",
    "The objective is to predict house prices (y) based on three predictors:\n",
    "\n",
    "- x<sub>1</sub>: Square footage (sqft)\n",
    "- x<sub>2</sub>: Number of bedrooms\n",
    "- x<sub>3</sub>: Age of the house"
   ]
  },
  {
   "cell_type": "code",
   "execution_count": 1,
   "id": "28164382",
   "metadata": {},
   "outputs": [],
   "source": [
    "import pandas as pd\n",
    "import statsmodels.api as sm\n",
    "import matplotlib.pyplot as plt\n",
    "import seaborn as sns"
   ]
  },
  {
   "cell_type": "code",
   "execution_count": 2,
   "id": "9bf9716c",
   "metadata": {},
   "outputs": [
    {
     "name": "stdout",
     "output_type": "stream",
     "text": [
      "   square_footage  num_bedrooms  house_age  house_price\n",
      "0            1500             3         10       300000\n",
      "1            1800             3         15       350000\n",
      "2            2400             4         20       500000\n",
      "3            3000             4          5       600000\n",
      "4            3500             5          8       650000\n"
     ]
    }
   ],
   "source": [
    "# Create a sample dataset\n",
    "data = pd.DataFrame({\n",
    "    'square_footage': [1500, 1800, 2400, 3000, 3500, 4000, 4500, 2000, 2200, 3200],\n",
    "    'num_bedrooms': [3, 3, 4, 4, 5, 5, 6, 3, 3, 4],\n",
    "    'house_age': [10, 15, 20, 5, 8, 12, 25, 20, 18, 6],\n",
    "    'house_price': [300000, 350000, 500000, 600000, 650000, 700000, 750000, 400000, 420000, 580000]\n",
    "})\n",
    "\n",
    "# Display the first few rows\n",
    "print(data.head())"
   ]
  },
  {
   "cell_type": "code",
   "execution_count": 3,
   "id": "5981f2f4",
   "metadata": {},
   "outputs": [
    {
     "name": "stdout",
     "output_type": "stream",
     "text": [
      "(10, 4) (10,)\n"
     ]
    }
   ],
   "source": [
    "# Define predictors (independent variables) and response (dependent variable)\n",
    "X = data[['square_footage', 'num_bedrooms', 'house_age']]  # Independent variables\n",
    "X = sm.add_constant(X)  # Add a constant for the intercept\n",
    "y = data['house_price']  # Dependent variable\n",
    "\n",
    "\n",
    "# Verify shape\n",
    "print(X.shape, y.shape)"
   ]
  },
  {
   "cell_type": "code",
   "execution_count": 4,
   "id": "75e0ac07",
   "metadata": {},
   "outputs": [
    {
     "name": "stdout",
     "output_type": "stream",
     "text": [
      "                            OLS Regression Results                            \n",
      "==============================================================================\n",
      "Dep. Variable:            house_price   R-squared:                       0.975\n",
      "Model:                            OLS   Adj. R-squared:                  0.963\n",
      "Method:                 Least Squares   F-statistic:                     79.16\n",
      "Date:                Sun, 26 Oct 2025   Prob (F-statistic):           3.24e-05\n",
      "Time:                        10:22:59   Log-Likelihood:                -114.61\n",
      "No. Observations:                  10   AIC:                             237.2\n",
      "Df Residuals:                       6   BIC:                             238.4\n",
      "Df Model:                           3                                         \n",
      "Covariance Type:            nonrobust                                         \n",
      "==================================================================================\n",
      "                     coef    std err          t      P>|t|      [0.025      0.975]\n",
      "----------------------------------------------------------------------------------\n",
      "const            1.02e+05    4.8e+04      2.125      0.078   -1.54e+04    2.19e+05\n",
      "square_footage   140.5529     35.012      4.014      0.007      54.881     226.225\n",
      "num_bedrooms    1.263e+04   3.32e+04      0.381      0.716   -6.85e+04    9.38e+04\n",
      "house_age      -1615.4237   1523.778     -1.060      0.330   -5343.974    2113.126\n",
      "==============================================================================\n",
      "Omnibus:                        0.759   Durbin-Watson:                   1.221\n",
      "Prob(Omnibus):                  0.684   Jarque-Bera (JB):                0.619\n",
      "Skew:                           0.490   Prob(JB):                        0.734\n",
      "Kurtosis:                       2.274   Cond. No.                     1.71e+04\n",
      "==============================================================================\n",
      "\n",
      "Notes:\n",
      "[1] Standard Errors assume that the covariance matrix of the errors is correctly specified.\n",
      "[2] The condition number is large, 1.71e+04. This might indicate that there are\n",
      "strong multicollinearity or other numerical problems.\n"
     ]
    },
    {
     "name": "stderr",
     "output_type": "stream",
     "text": [
      "c:\\Users\\marha\\.conda\\envs\\win_c0c1\\Lib\\site-packages\\scipy\\stats\\_axis_nan_policy.py:418: UserWarning: `kurtosistest` p-value may be inaccurate with fewer than 20 observations; only n=10 observations were given.\n",
      "  return hypotest_fun_in(*args, **kwds)\n"
     ]
    }
   ],
   "source": [
    "# Fit the Multiple Linear Regression model\n",
    "model = sm.OLS(y, X).fit()\n",
    "\n",
    "# Print the model summary\n",
    "print(model.summary())"
   ]
  },
  {
   "cell_type": "markdown",
   "id": "0bba7d6b",
   "metadata": {},
   "source": [
    "### Results ###\n",
    "\n",
    "**Key Metrics**\n",
    "r<sup>2</sup> = 0.975\n",
    "\n",
    "- 97.5% of the variability in house price is explained by the 3 predictors in the model\n",
    "- This suggests a strong fit of the regression model\n",
    "\n",
    "adjusted R<sup>2</sup> = 0.963\n",
    "\n",
    "- The slight drop from r<sup>2</sup> to adjusted R<sup>2</sup> indicates 3 variables slightly overfits the model\n",
    "- The value of adjusted R<sup>2</sup> shows the regression model still has significant predictive power\n",
    "\n",
    "F-statistic = 79.16, p-value = 3.24 x e<sup>-5</sup>\n",
    "\n",
    "- The F-statistic tests the null hypothesis that all regression coefficients are zero\n",
    "- The very small p-value indicates that the model overall is statistically significant\n",
    "\n",
    "Coefficients\n",
    "\n",
    "- Intercept p-value is 0.078, which is marginally statistically insignificant\n",
    "- Square-footage p-value is 0.007, which is statistically significant. The value of the coefficient indicates that each additional square foot adds $140.55 to the price of the home\n",
    "- Number of bedrooms p-value is 0.716, which is not statistically significant\n",
    "- House age p-value is 0.33, which is not statistically significant\n",
    "\n",
    "Overall, this analysis indicates that the square-footage of the house is the only one of these three factors that influences the house price in a statistically significant way."
   ]
  }
 ],
 "metadata": {
  "kernelspec": {
   "display_name": "Python (win_c0c1)",
   "language": "python",
   "name": "win_c0c1"
  },
  "language_info": {
   "codemirror_mode": {
    "name": "ipython",
    "version": 3
   },
   "file_extension": ".py",
   "mimetype": "text/x-python",
   "name": "python",
   "nbconvert_exporter": "python",
   "pygments_lexer": "ipython3",
   "version": "3.12.4"
  }
 },
 "nbformat": 4,
 "nbformat_minor": 5
}
