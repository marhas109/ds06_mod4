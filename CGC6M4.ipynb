{
  "nbformat": 4,
  "nbformat_minor": 0,
  "metadata": {
    "colab": {
      "provenance": []
    },
    "kernelspec": {
      "name": "python3",
      "display_name": "Python 3"
    },
    "language_info": {
      "name": "python"
    }
  },
  "cells": [
    {
      "cell_type": "markdown",
      "source": [
        "## Module 4: General Linear Regression: Multiple Linear Regression and other regression models"
      ],
      "metadata": {
        "id": "A9V8HTW5YrQL"
      }
    },
    {
      "cell_type": "markdown",
      "source": [
        "### Step 0\n",
        "\n",
        "Load the appropriate libraries and bring in the data. Note that we have to run a script to get the [California Housing dataset](https://scikit-learn.org/stable/modules/generated/sklearn.datasets.fetch_california_housing.html) to match as it is in scikit-learn. We cannot pull it directly from scikit-learn since CodeGrade cannot access the internet."
      ],
      "metadata": {
        "id": "fTl7v_zmYt1T"
      }
    },
    {
      "cell_type": "code",
      "execution_count": null,
      "metadata": {
        "id": "CeErSvQKin7j"
      },
      "outputs": [],
      "source": [
        "# CodeGrade step0\n",
        "\n",
        "from sklearn.datasets import fetch_california_housing\n",
        "import pandas as pd\n",
        "import numpy as np\n",
        "import matplotlib.pyplot as plt\n",
        "from sklearn.linear_model import LinearRegression\n",
        "from scipy.stats import pearsonr\n",
        "import os\n",
        "import tarfile\n",
        "import joblib # Import joblib directly\n",
        "from sklearn.datasets._base import _pkl_filepath, get_data_home\n",
        "import statsmodels.api as sm\n",
        "import statsmodels.formula.api as smf\n",
        "import seaborn as sns\n",
        "\n",
        "archive_path = \"cal_housing.tgz\" # change the path if it's not in the current directory\n",
        "data_home = get_data_home(data_home=None) # change data_home if you are not using ~/scikit_learn_data\n",
        "if not os.path.exists(data_home):\n",
        "    os.makedirs(data_home)\n",
        "filepath = _pkl_filepath(data_home, 'cal_housing.pkz')\n",
        "\n",
        "with tarfile.open(mode=\"r:gz\", name=archive_path) as f:\n",
        "    cal_housing = np.loadtxt(\n",
        "        f.extractfile('CaliforniaHousing/cal_housing.data'),\n",
        "        delimiter=',')\n",
        "    # Columns are not in the same order compared to the previous\n",
        "    # URL resource on lib.stat.cmu.edu\n",
        "    columns_index = [8, 7, 2, 3, 4, 5, 6, 1, 0]\n",
        "    cal_housing = cal_housing[:, columns_index]\n",
        "\n",
        "    joblib.dump(cal_housing, filepath, compress=6) # Now using the directly imported joblib\n",
        "\n",
        "# Load the dataset\n",
        "california = fetch_california_housing(as_frame=True)\n",
        "data = california.data\n",
        "data['MedianHouseValue'] = california.target"
      ]
    },
    {
      "cell_type": "markdown",
      "source": [
        "Look at the data using `.info()` and `.describe()`."
      ],
      "metadata": {
        "id": "xQgqYV_Aja7V"
      }
    },
    {
      "cell_type": "code",
      "source": [
        "# Display basic information\n",
        "print(data.info())\n",
        "print(data.describe())"
      ],
      "metadata": {
        "id": "TjKuy5w7lfIC"
      },
      "execution_count": null,
      "outputs": []
    },
    {
      "cell_type": "markdown",
      "source": [
        "### Step 1\n",
        "\n",
        "Let the `X` variable be `MedInc`, `AveRooms`, and `HouseAge` and `y` be `MedianHouseValue`.\n",
        "\n",
        "Then add the constant for the intercept.\n",
        "\n",
        "Next, create the baseline model, called `baseline_model` using `smf.ols` for the above variables, and fit the model.\n",
        "\n",
        "To verify the mdoel, return the $r^2$ value rounded to four decimal places."
      ],
      "metadata": {
        "id": "HtCPL_p9ji2V"
      }
    },
    {
      "cell_type": "code",
      "source": [
        "# CodeGrade step1\n"
      ],
      "metadata": {
        "id": "eBXooh-Ri0pb"
      },
      "execution_count": null,
      "outputs": []
    },
    {
      "cell_type": "markdown",
      "source": [
        "Now print the model summary."
      ],
      "metadata": {
        "id": "4AzJNnpJmU86"
      }
    },
    {
      "cell_type": "code",
      "source": [
        "# Print model summary\n"
      ],
      "metadata": {
        "id": "OG2NFClilna-"
      },
      "execution_count": null,
      "outputs": []
    },
    {
      "cell_type": "markdown",
      "source": [
        "### Step 2\n",
        "\n",
        "\n",
        "Add a quadratic term to the data called `MedInc_squared`, which is what it sounds like.\n",
        "\n",
        "Now fit the model using `smf.ols` with the quadratic term, calling this model, `nonlinear_model`. Make sure to incluce the variables  `MedInc`, `AveRooms`, and `HouseAge` as well.\n",
        "\n",
        "To verify the model, return the $r^2$ value rounded to six decimal places.\n",
        "\n"
      ],
      "metadata": {
        "id": "OPPVzKuvmW_D"
      }
    },
    {
      "cell_type": "code",
      "source": [
        "# CodeGrade step2\n"
      ],
      "metadata": {
        "id": "8jQ3PCKZmQc-"
      },
      "execution_count": null,
      "outputs": []
    },
    {
      "cell_type": "markdown",
      "source": [
        "Now print the model summary."
      ],
      "metadata": {
        "id": "7V-18v53nFcm"
      }
    },
    {
      "cell_type": "code",
      "source": [
        "# Print the summary\n"
      ],
      "metadata": {
        "id": "G22p6jX_myLt"
      },
      "execution_count": null,
      "outputs": []
    },
    {
      "cell_type": "markdown",
      "source": [
        "### Step 3\n",
        "\n",
        "Add (again) the same quadratic term, but now also add an interaction term that represents the interaction between `MedInc` and `AveRooms`.\n",
        "\n",
        "Now fit the model using `smf.ols` with the quadratic term, calling this model, `interaction_model`.  Make sure to incluce the variables  `MedInc`, `AveRooms`, and `HouseAge` as well.\n",
        "\n",
        "To verify the model, return the $r^2$ value rounded to six decimal places."
      ],
      "metadata": {
        "id": "yEb3W_55nGrR"
      }
    },
    {
      "cell_type": "code",
      "source": [
        "# CodeGrade step3\n"
      ],
      "metadata": {
        "id": "uceKXX3InJKG"
      },
      "execution_count": null,
      "outputs": []
    },
    {
      "cell_type": "markdown",
      "source": [
        "Now print the model summary."
      ],
      "metadata": {
        "id": "OTMeVrconnNa"
      }
    },
    {
      "cell_type": "code",
      "source": [
        "# Print the summary\n"
      ],
      "metadata": {
        "id": "tCYSpsBAnPLj"
      },
      "execution_count": null,
      "outputs": []
    },
    {
      "cell_type": "markdown",
      "source": [
        "### Step 4\n",
        "\n",
        "Add (again) the same quadratic term as in the previous two steps.\n",
        "\n",
        "Create an indicator variable by\n",
        "1.   Find the median of `MedInc`, call this `median_income_threshold`\n",
        "2.   Adding a new variable to the data set callede `HighIncome` that assigns a 1 to any value strictly greater than the median, and otherwise it assigns a 0.\n",
        "\n",
        "Now fit the model using `smf.ols` with the quadratic term and indicator variable, calling this model, `indicator_model`.  Make sure to incluce the variables  `MedInc`, `AveRooms`, and `HouseAge` as well.\n",
        "\n",
        "To verify the model, return the $r^2$ value rounded to six decimal places."
      ],
      "metadata": {
        "id": "3iPgPY_onoGH"
      }
    },
    {
      "cell_type": "code",
      "source": [
        "# CodeGrade step4\n"
      ],
      "metadata": {
        "id": "7gy6DMoVnrHW"
      },
      "execution_count": null,
      "outputs": []
    },
    {
      "cell_type": "markdown",
      "source": [
        "Now print the model summary."
      ],
      "metadata": {
        "id": "FGe2K0VYnq1u"
      }
    },
    {
      "cell_type": "code",
      "source": [
        "# Print the summary\n"
      ],
      "metadata": {
        "id": "oKmmBxoKn9Dt"
      },
      "execution_count": null,
      "outputs": []
    },
    {
      "cell_type": "markdown",
      "source": [
        "### Step 5\n",
        "\n",
        "Add (again) the same quadratic term, but now also add an log transformed term of `AveRooms` called `log_AveRooms`.\n",
        "\n",
        "Now fit the model using `smf.ols` with the quadratic term, calling this model, `log_model`.  Make sure to incluce the variables  `MedInc`, `AveRooms`, and `HouseAge` as well.\n",
        "\n",
        "To verify the model, return the $r^2$ value rounded to six decimal places."
      ],
      "metadata": {
        "id": "NgwsRwBkoBk3"
      }
    },
    {
      "cell_type": "code",
      "source": [
        "# CodeGrade step5\n"
      ],
      "metadata": {
        "id": "-8h_k1dKt0bq"
      },
      "execution_count": null,
      "outputs": []
    },
    {
      "cell_type": "markdown",
      "source": [
        "Now print the model summary."
      ],
      "metadata": {
        "id": "5jMX-K7mnsIV"
      }
    },
    {
      "cell_type": "code",
      "source": [
        "# Print the summary\n"
      ],
      "metadata": {
        "id": "Dnk06R25t-Yx"
      },
      "execution_count": null,
      "outputs": []
    },
    {
      "cell_type": "markdown",
      "source": [
        "### Step 6\n",
        "\n",
        "Return the shape of `log_model`'s residuals."
      ],
      "metadata": {
        "id": "AxlQtEaJn3r5"
      }
    },
    {
      "cell_type": "code",
      "source": [
        "# CodeGrade step6\n"
      ],
      "metadata": {
        "id": "8KfmMoX7vA9i"
      },
      "execution_count": null,
      "outputs": []
    },
    {
      "cell_type": "markdown",
      "source": [
        "Now for the log model, plot the resisuals vs. the fitted values and the Q-Q plot."
      ],
      "metadata": {
        "id": "AtnPoDrtnt4s"
      }
    },
    {
      "cell_type": "code",
      "source": [
        "# Residuals vs. Fitted Plot\n"
      ],
      "metadata": {
        "id": "33ENVOtxuSZo"
      },
      "execution_count": null,
      "outputs": []
    }
  ]
}