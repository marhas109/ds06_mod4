{
  "cells": [
    {
      "cell_type": "markdown",
      "metadata": {
        "id": "A9V8HTW5YrQL"
      },
      "source": [
        "## Module 4: General Linear Regression: Multiple Linear Regression and other regression models"
      ]
    },
    {
      "cell_type": "markdown",
      "metadata": {
        "id": "fTl7v_zmYt1T"
      },
      "source": [
        "### Step 0\n",
        "\n",
        "Load the appropriate libraries and bring in the data. Note that we have to run a script to get the [California Housing dataset](https://scikit-learn.org/stable/modules/generated/sklearn.datasets.fetch_california_housing.html) to match as it is in scikit-learn. We cannot pull it directly from scikit-learn since CodeGrade cannot access the internet."
      ]
    },
    {
      "cell_type": "code",
      "execution_count": 1,
      "metadata": {
        "id": "CeErSvQKin7j"
      },
      "outputs": [],
      "source": [
        "# CodeGrade step0\n",
        "\n",
        "from sklearn.datasets import fetch_california_housing\n",
        "import pandas as pd\n",
        "import numpy as np\n",
        "import matplotlib.pyplot as plt\n",
        "from sklearn.linear_model import LinearRegression\n",
        "from scipy.stats import pearsonr\n",
        "import os\n",
        "import tarfile\n",
        "import joblib # Import joblib directly\n",
        "from sklearn.datasets._base import _pkl_filepath, get_data_home\n",
        "import statsmodels.api as sm\n",
        "import statsmodels.formula.api as smf\n",
        "import seaborn as sns\n",
        "\n",
        "archive_path = \"cal_housing.tgz\" # change the path if it's not in the current directory\n",
        "data_home = get_data_home(data_home=None) # change data_home if you are not using ~/scikit_learn_data\n",
        "if not os.path.exists(data_home):\n",
        "    os.makedirs(data_home)\n",
        "filepath = _pkl_filepath(data_home, 'cal_housing.pkz')\n",
        "\n",
        "with tarfile.open(mode=\"r:gz\", name=archive_path) as f:\n",
        "    cal_housing = np.loadtxt(\n",
        "        f.extractfile('CaliforniaHousing/cal_housing.data'),\n",
        "        delimiter=',')\n",
        "    # Columns are not in the same order compared to the previous\n",
        "    # URL resource on lib.stat.cmu.edu\n",
        "    columns_index = [8, 7, 2, 3, 4, 5, 6, 1, 0]\n",
        "    cal_housing = cal_housing[:, columns_index]\n",
        "\n",
        "    joblib.dump(cal_housing, filepath, compress=6) # Now using the directly imported joblib\n",
        "\n",
        "# Load the dataset\n",
        "california = fetch_california_housing(as_frame=True)\n",
        "data = california.data\n",
        "data['MedianHouseValue'] = california.target"
      ]
    },
    {
      "cell_type": "markdown",
      "metadata": {
        "id": "xQgqYV_Aja7V"
      },
      "source": [
        "Look at the data using `.info()` and `.describe()`."
      ]
    },
    {
      "cell_type": "code",
      "execution_count": 2,
      "metadata": {
        "id": "TjKuy5w7lfIC"
      },
      "outputs": [
        {
          "name": "stdout",
          "output_type": "stream",
          "text": [
            "<class 'pandas.core.frame.DataFrame'>\n",
            "RangeIndex: 20640 entries, 0 to 20639\n",
            "Data columns (total 9 columns):\n",
            " #   Column            Non-Null Count  Dtype  \n",
            "---  ------            --------------  -----  \n",
            " 0   MedInc            20640 non-null  float64\n",
            " 1   HouseAge          20640 non-null  float64\n",
            " 2   AveRooms          20640 non-null  float64\n",
            " 3   AveBedrms         20640 non-null  float64\n",
            " 4   Population        20640 non-null  float64\n",
            " 5   AveOccup          20640 non-null  float64\n",
            " 6   Latitude          20640 non-null  float64\n",
            " 7   Longitude         20640 non-null  float64\n",
            " 8   MedianHouseValue  20640 non-null  float64\n",
            "dtypes: float64(9)\n",
            "memory usage: 1.4 MB\n",
            "None\n",
            "             MedInc      HouseAge      AveRooms     AveBedrms    Population  \\\n",
            "count  20640.000000  20640.000000  20640.000000  20640.000000  20640.000000   \n",
            "mean       3.870671     28.639486      5.429000      1.096675   1425.476744   \n",
            "std        1.899822     12.585558      2.474173      0.473911   1132.462122   \n",
            "min        0.499900      1.000000      0.846154      0.333333      3.000000   \n",
            "25%        2.563400     18.000000      4.440716      1.006079    787.000000   \n",
            "50%        3.534800     29.000000      5.229129      1.048780   1166.000000   \n",
            "75%        4.743250     37.000000      6.052381      1.099526   1725.000000   \n",
            "max       15.000100     52.000000    141.909091     34.066667  35682.000000   \n",
            "\n",
            "           AveOccup      Latitude     Longitude  MedianHouseValue  \n",
            "count  20640.000000  20640.000000  20640.000000      20640.000000  \n",
            "mean       3.070655     35.631861   -119.569704          2.068558  \n",
            "std       10.386050      2.135952      2.003532          1.153956  \n",
            "min        0.692308     32.540000   -124.350000          0.149990  \n",
            "25%        2.429741     33.930000   -121.800000          1.196000  \n",
            "50%        2.818116     34.260000   -118.490000          1.797000  \n",
            "75%        3.282261     37.710000   -118.010000          2.647250  \n",
            "max     1243.333333     41.950000   -114.310000          5.000010  \n"
          ]
        }
      ],
      "source": [
        "# Display basic information\n",
        "print(data.info())\n",
        "print(data.describe())"
      ]
    },
    {
      "cell_type": "markdown",
      "metadata": {
        "id": "HtCPL_p9ji2V"
      },
      "source": [
        "### Step 1\n",
        "\n",
        "Let the `X` variable be `MedInc`, `AveRooms`, and `HouseAge` and `y` be `MedianHouseValue`.\n",
        "\n",
        "Then add the constant for the intercept.\n",
        "\n",
        "Next, create the baseline model, called `baseline_model` using `smf.ols` for the above variables, and fit the model.\n",
        "\n",
        "To verify the mdoel, return the $r^2$ value rounded to four decimal places."
      ]
    },
    {
      "cell_type": "code",
      "execution_count": 10,
      "metadata": {
        "id": "eBXooh-Ri0pb"
      },
      "outputs": [
        {
          "data": {
            "text/plain": [
              "0.5121"
            ]
          },
          "execution_count": 10,
          "metadata": {},
          "output_type": "execute_result"
        }
      ],
      "source": [
        "# CodeGrade step1\n",
        "X = data[['MedInc', 'AveRooms', 'HouseAge']]\n",
        "y = california.target\n",
        "X_const = sm.add_constant(X)\n",
        "baseline_model = sm.OLS(y, X_const).fit()\n",
        "r_squared_baseline = baseline_model.rsquared\n",
        "np.round(r_squared_baseline, 4)"
      ]
    },
    {
      "cell_type": "markdown",
      "metadata": {
        "id": "4AzJNnpJmU86"
      },
      "source": [
        "Now print the model summary."
      ]
    },
    {
      "cell_type": "code",
      "execution_count": 5,
      "metadata": {
        "id": "OG2NFClilna-"
      },
      "outputs": [
        {
          "data": {
            "text/html": [
              "<table class=\"simpletable\">\n",
              "<caption>OLS Regression Results</caption>\n",
              "<tr>\n",
              "  <th>Dep. Variable:</th>       <td>MedHouseVal</td>   <th>  R-squared:         </th> <td>   0.512</td> \n",
              "</tr>\n",
              "<tr>\n",
              "  <th>Model:</th>                   <td>OLS</td>       <th>  Adj. R-squared:    </th> <td>   0.512</td> \n",
              "</tr>\n",
              "<tr>\n",
              "  <th>Method:</th>             <td>Least Squares</td>  <th>  F-statistic:       </th> <td>   7220.</td> \n",
              "</tr>\n",
              "<tr>\n",
              "  <th>Date:</th>             <td>Sun, 26 Oct 2025</td> <th>  Prob (F-statistic):</th>  <td>  0.00</td>  \n",
              "</tr>\n",
              "<tr>\n",
              "  <th>Time:</th>                 <td>12:42:53</td>     <th>  Log-Likelihood:    </th> <td> -24836.</td> \n",
              "</tr>\n",
              "<tr>\n",
              "  <th>No. Observations:</th>      <td> 20640</td>      <th>  AIC:               </th> <td>4.968e+04</td>\n",
              "</tr>\n",
              "<tr>\n",
              "  <th>Df Residuals:</th>          <td> 20636</td>      <th>  BIC:               </th> <td>4.971e+04</td>\n",
              "</tr>\n",
              "<tr>\n",
              "  <th>Df Model:</th>              <td>     3</td>      <th>                     </th>     <td> </td>    \n",
              "</tr>\n",
              "<tr>\n",
              "  <th>Covariance Type:</th>      <td>nonrobust</td>    <th>                     </th>     <td> </td>    \n",
              "</tr>\n",
              "</table>\n",
              "<table class=\"simpletable\">\n",
              "<tr>\n",
              "      <td></td>        <th>coef</th>     <th>std err</th>      <th>t</th>      <th>P>|t|</th>  <th>[0.025</th>    <th>0.975]</th>  \n",
              "</tr>\n",
              "<tr>\n",
              "  <th>const</th>    <td>    0.0204</td> <td>    0.022</td> <td>    0.928</td> <td> 0.353</td> <td>   -0.023</td> <td>    0.063</td>\n",
              "</tr>\n",
              "<tr>\n",
              "  <th>MedInc</th>   <td>    0.4428</td> <td>    0.003</td> <td>  141.292</td> <td> 0.000</td> <td>    0.437</td> <td>    0.449</td>\n",
              "</tr>\n",
              "<tr>\n",
              "  <th>AveRooms</th> <td>   -0.0272</td> <td>    0.002</td> <td>  -11.231</td> <td> 0.000</td> <td>   -0.032</td> <td>   -0.022</td>\n",
              "</tr>\n",
              "<tr>\n",
              "  <th>HouseAge</th> <td>    0.0168</td> <td>    0.000</td> <td>   37.185</td> <td> 0.000</td> <td>    0.016</td> <td>    0.018</td>\n",
              "</tr>\n",
              "</table>\n",
              "<table class=\"simpletable\">\n",
              "<tr>\n",
              "  <th>Omnibus:</th>       <td>4387.129</td> <th>  Durbin-Watson:     </th> <td>   0.805</td> \n",
              "</tr>\n",
              "<tr>\n",
              "  <th>Prob(Omnibus):</th>  <td> 0.000</td>  <th>  Jarque-Bera (JB):  </th> <td>11558.910</td>\n",
              "</tr>\n",
              "<tr>\n",
              "  <th>Skew:</th>           <td> 1.150</td>  <th>  Prob(JB):          </th> <td>    0.00</td> \n",
              "</tr>\n",
              "<tr>\n",
              "  <th>Kurtosis:</th>       <td> 5.855</td>  <th>  Cond. No.          </th> <td>    125.</td> \n",
              "</tr>\n",
              "</table><br/><br/>Notes:<br/>[1] Standard Errors assume that the covariance matrix of the errors is correctly specified."
            ],
            "text/latex": [
              "\\begin{center}\n",
              "\\begin{tabular}{lclc}\n",
              "\\toprule\n",
              "\\textbf{Dep. Variable:}    &   MedHouseVal    & \\textbf{  R-squared:         } &     0.512   \\\\\n",
              "\\textbf{Model:}            &       OLS        & \\textbf{  Adj. R-squared:    } &     0.512   \\\\\n",
              "\\textbf{Method:}           &  Least Squares   & \\textbf{  F-statistic:       } &     7220.   \\\\\n",
              "\\textbf{Date:}             & Sun, 26 Oct 2025 & \\textbf{  Prob (F-statistic):} &     0.00    \\\\\n",
              "\\textbf{Time:}             &     12:42:53     & \\textbf{  Log-Likelihood:    } &   -24836.   \\\\\n",
              "\\textbf{No. Observations:} &       20640      & \\textbf{  AIC:               } & 4.968e+04   \\\\\n",
              "\\textbf{Df Residuals:}     &       20636      & \\textbf{  BIC:               } & 4.971e+04   \\\\\n",
              "\\textbf{Df Model:}         &           3      & \\textbf{                     } &             \\\\\n",
              "\\textbf{Covariance Type:}  &    nonrobust     & \\textbf{                     } &             \\\\\n",
              "\\bottomrule\n",
              "\\end{tabular}\n",
              "\\begin{tabular}{lcccccc}\n",
              "                  & \\textbf{coef} & \\textbf{std err} & \\textbf{t} & \\textbf{P$> |$t$|$} & \\textbf{[0.025} & \\textbf{0.975]}  \\\\\n",
              "\\midrule\n",
              "\\textbf{const}    &       0.0204  &        0.022     &     0.928  &         0.353        &       -0.023    &        0.063     \\\\\n",
              "\\textbf{MedInc}   &       0.4428  &        0.003     &   141.292  &         0.000        &        0.437    &        0.449     \\\\\n",
              "\\textbf{AveRooms} &      -0.0272  &        0.002     &   -11.231  &         0.000        &       -0.032    &       -0.022     \\\\\n",
              "\\textbf{HouseAge} &       0.0168  &        0.000     &    37.185  &         0.000        &        0.016    &        0.018     \\\\\n",
              "\\bottomrule\n",
              "\\end{tabular}\n",
              "\\begin{tabular}{lclc}\n",
              "\\textbf{Omnibus:}       & 4387.129 & \\textbf{  Durbin-Watson:     } &     0.805  \\\\\n",
              "\\textbf{Prob(Omnibus):} &   0.000  & \\textbf{  Jarque-Bera (JB):  } & 11558.910  \\\\\n",
              "\\textbf{Skew:}          &   1.150  & \\textbf{  Prob(JB):          } &      0.00  \\\\\n",
              "\\textbf{Kurtosis:}      &   5.855  & \\textbf{  Cond. No.          } &      125.  \\\\\n",
              "\\bottomrule\n",
              "\\end{tabular}\n",
              "%\\caption{OLS Regression Results}\n",
              "\\end{center}\n",
              "\n",
              "Notes: \\newline\n",
              " [1] Standard Errors assume that the covariance matrix of the errors is correctly specified."
            ],
            "text/plain": [
              "<class 'statsmodels.iolib.summary.Summary'>\n",
              "\"\"\"\n",
              "                            OLS Regression Results                            \n",
              "==============================================================================\n",
              "Dep. Variable:            MedHouseVal   R-squared:                       0.512\n",
              "Model:                            OLS   Adj. R-squared:                  0.512\n",
              "Method:                 Least Squares   F-statistic:                     7220.\n",
              "Date:                Sun, 26 Oct 2025   Prob (F-statistic):               0.00\n",
              "Time:                        12:42:53   Log-Likelihood:                -24836.\n",
              "No. Observations:               20640   AIC:                         4.968e+04\n",
              "Df Residuals:                   20636   BIC:                         4.971e+04\n",
              "Df Model:                           3                                         \n",
              "Covariance Type:            nonrobust                                         \n",
              "==============================================================================\n",
              "                 coef    std err          t      P>|t|      [0.025      0.975]\n",
              "------------------------------------------------------------------------------\n",
              "const          0.0204      0.022      0.928      0.353      -0.023       0.063\n",
              "MedInc         0.4428      0.003    141.292      0.000       0.437       0.449\n",
              "AveRooms      -0.0272      0.002    -11.231      0.000      -0.032      -0.022\n",
              "HouseAge       0.0168      0.000     37.185      0.000       0.016       0.018\n",
              "==============================================================================\n",
              "Omnibus:                     4387.129   Durbin-Watson:                   0.805\n",
              "Prob(Omnibus):                  0.000   Jarque-Bera (JB):            11558.910\n",
              "Skew:                           1.150   Prob(JB):                         0.00\n",
              "Kurtosis:                       5.855   Cond. No.                         125.\n",
              "==============================================================================\n",
              "\n",
              "Notes:\n",
              "[1] Standard Errors assume that the covariance matrix of the errors is correctly specified.\n",
              "\"\"\""
            ]
          },
          "execution_count": 5,
          "metadata": {},
          "output_type": "execute_result"
        }
      ],
      "source": [
        "# Print model summary\n",
        "baseline_model.summary()"
      ]
    },
    {
      "cell_type": "markdown",
      "metadata": {
        "id": "OPPVzKuvmW_D"
      },
      "source": [
        "### Step 2\n",
        "\n",
        "\n",
        "Add a quadratic term to the data called `MedInc_squared`, which is what it sounds like.\n",
        "\n",
        "Now fit the model using `smf.ols` with the quadratic term, calling this model, `nonlinear_model`. Make sure to incluce the variables  `MedInc`, `AveRooms`, and `HouseAge` as well.\n",
        "\n",
        "To verify the model, return the $r^2$ value rounded to six decimal places.\n",
        "\n"
      ]
    },
    {
      "cell_type": "code",
      "execution_count": 12,
      "metadata": {
        "id": "8jQ3PCKZmQc-"
      },
      "outputs": [
        {
          "data": {
            "text/plain": [
              "0.52017"
            ]
          },
          "execution_count": 12,
          "metadata": {},
          "output_type": "execute_result"
        }
      ],
      "source": [
        "# CodeGrade step2\n",
        "data['MedInc_squared'] = data['MedInc'] ** 2\n",
        "nonlinear_model = smf.ols(formula='MedianHouseValue ~ AveRooms + HouseAge + MedInc + MedInc_squared', data=data).fit()\n",
        "r_squared_nonlinear = nonlinear_model.rsquared\n",
        "np.round(r_squared_nonlinear, 6)"
      ]
    },
    {
      "cell_type": "markdown",
      "metadata": {
        "id": "7V-18v53nFcm"
      },
      "source": [
        "Now print the model summary."
      ]
    },
    {
      "cell_type": "code",
      "execution_count": 13,
      "metadata": {
        "id": "G22p6jX_myLt"
      },
      "outputs": [
        {
          "data": {
            "text/html": [
              "<table class=\"simpletable\">\n",
              "<caption>OLS Regression Results</caption>\n",
              "<tr>\n",
              "  <th>Dep. Variable:</th>    <td>MedianHouseValue</td> <th>  R-squared:         </th> <td>   0.520</td> \n",
              "</tr>\n",
              "<tr>\n",
              "  <th>Model:</th>                   <td>OLS</td>       <th>  Adj. R-squared:    </th> <td>   0.520</td> \n",
              "</tr>\n",
              "<tr>\n",
              "  <th>Method:</th>             <td>Least Squares</td>  <th>  F-statistic:       </th> <td>   5592.</td> \n",
              "</tr>\n",
              "<tr>\n",
              "  <th>Date:</th>             <td>Sun, 26 Oct 2025</td> <th>  Prob (F-statistic):</th>  <td>  0.00</td>  \n",
              "</tr>\n",
              "<tr>\n",
              "  <th>Time:</th>                 <td>13:00:21</td>     <th>  Log-Likelihood:    </th> <td> -24664.</td> \n",
              "</tr>\n",
              "<tr>\n",
              "  <th>No. Observations:</th>      <td> 20640</td>      <th>  AIC:               </th> <td>4.934e+04</td>\n",
              "</tr>\n",
              "<tr>\n",
              "  <th>Df Residuals:</th>          <td> 20635</td>      <th>  BIC:               </th> <td>4.938e+04</td>\n",
              "</tr>\n",
              "<tr>\n",
              "  <th>Df Model:</th>              <td>     4</td>      <th>                     </th>     <td> </td>    \n",
              "</tr>\n",
              "<tr>\n",
              "  <th>Covariance Type:</th>      <td>nonrobust</td>    <th>                     </th>     <td> </td>    \n",
              "</tr>\n",
              "</table>\n",
              "<table class=\"simpletable\">\n",
              "<tr>\n",
              "         <td></td>           <th>coef</th>     <th>std err</th>      <th>t</th>      <th>P>|t|</th>  <th>[0.025</th>    <th>0.975]</th>  \n",
              "</tr>\n",
              "<tr>\n",
              "  <th>Intercept</th>      <td>   -0.3310</td> <td>    0.029</td> <td>  -11.482</td> <td> 0.000</td> <td>   -0.388</td> <td>   -0.275</td>\n",
              "</tr>\n",
              "<tr>\n",
              "  <th>AveRooms</th>       <td>   -0.0285</td> <td>    0.002</td> <td>  -11.878</td> <td> 0.000</td> <td>   -0.033</td> <td>   -0.024</td>\n",
              "</tr>\n",
              "<tr>\n",
              "  <th>HouseAge</th>       <td>    0.0177</td> <td>    0.000</td> <td>   39.193</td> <td> 0.000</td> <td>    0.017</td> <td>    0.019</td>\n",
              "</tr>\n",
              "<tr>\n",
              "  <th>MedInc</th>         <td>    0.5965</td> <td>    0.009</td> <td>   67.630</td> <td> 0.000</td> <td>    0.579</td> <td>    0.614</td>\n",
              "</tr>\n",
              "<tr>\n",
              "  <th>MedInc_squared</th> <td>   -0.0140</td> <td>    0.001</td> <td>  -18.627</td> <td> 0.000</td> <td>   -0.016</td> <td>   -0.013</td>\n",
              "</tr>\n",
              "</table>\n",
              "<table class=\"simpletable\">\n",
              "<tr>\n",
              "  <th>Omnibus:</th>       <td>4548.331</td> <th>  Durbin-Watson:     </th> <td>   0.822</td> \n",
              "</tr>\n",
              "<tr>\n",
              "  <th>Prob(Omnibus):</th>  <td> 0.000</td>  <th>  Jarque-Bera (JB):  </th> <td>11933.196</td>\n",
              "</tr>\n",
              "<tr>\n",
              "  <th>Skew:</th>           <td> 1.192</td>  <th>  Prob(JB):          </th> <td>    0.00</td> \n",
              "</tr>\n",
              "<tr>\n",
              "  <th>Kurtosis:</th>       <td> 5.862</td>  <th>  Cond. No.          </th> <td>    203.</td> \n",
              "</tr>\n",
              "</table><br/><br/>Notes:<br/>[1] Standard Errors assume that the covariance matrix of the errors is correctly specified."
            ],
            "text/latex": [
              "\\begin{center}\n",
              "\\begin{tabular}{lclc}\n",
              "\\toprule\n",
              "\\textbf{Dep. Variable:}    & MedianHouseValue & \\textbf{  R-squared:         } &     0.520   \\\\\n",
              "\\textbf{Model:}            &       OLS        & \\textbf{  Adj. R-squared:    } &     0.520   \\\\\n",
              "\\textbf{Method:}           &  Least Squares   & \\textbf{  F-statistic:       } &     5592.   \\\\\n",
              "\\textbf{Date:}             & Sun, 26 Oct 2025 & \\textbf{  Prob (F-statistic):} &     0.00    \\\\\n",
              "\\textbf{Time:}             &     13:00:21     & \\textbf{  Log-Likelihood:    } &   -24664.   \\\\\n",
              "\\textbf{No. Observations:} &       20640      & \\textbf{  AIC:               } & 4.934e+04   \\\\\n",
              "\\textbf{Df Residuals:}     &       20635      & \\textbf{  BIC:               } & 4.938e+04   \\\\\n",
              "\\textbf{Df Model:}         &           4      & \\textbf{                     } &             \\\\\n",
              "\\textbf{Covariance Type:}  &    nonrobust     & \\textbf{                     } &             \\\\\n",
              "\\bottomrule\n",
              "\\end{tabular}\n",
              "\\begin{tabular}{lcccccc}\n",
              "                         & \\textbf{coef} & \\textbf{std err} & \\textbf{t} & \\textbf{P$> |$t$|$} & \\textbf{[0.025} & \\textbf{0.975]}  \\\\\n",
              "\\midrule\n",
              "\\textbf{Intercept}       &      -0.3310  &        0.029     &   -11.482  &         0.000        &       -0.388    &       -0.275     \\\\\n",
              "\\textbf{AveRooms}        &      -0.0285  &        0.002     &   -11.878  &         0.000        &       -0.033    &       -0.024     \\\\\n",
              "\\textbf{HouseAge}        &       0.0177  &        0.000     &    39.193  &         0.000        &        0.017    &        0.019     \\\\\n",
              "\\textbf{MedInc}          &       0.5965  &        0.009     &    67.630  &         0.000        &        0.579    &        0.614     \\\\\n",
              "\\textbf{MedInc\\_squared} &      -0.0140  &        0.001     &   -18.627  &         0.000        &       -0.016    &       -0.013     \\\\\n",
              "\\bottomrule\n",
              "\\end{tabular}\n",
              "\\begin{tabular}{lclc}\n",
              "\\textbf{Omnibus:}       & 4548.331 & \\textbf{  Durbin-Watson:     } &     0.822  \\\\\n",
              "\\textbf{Prob(Omnibus):} &   0.000  & \\textbf{  Jarque-Bera (JB):  } & 11933.196  \\\\\n",
              "\\textbf{Skew:}          &   1.192  & \\textbf{  Prob(JB):          } &      0.00  \\\\\n",
              "\\textbf{Kurtosis:}      &   5.862  & \\textbf{  Cond. No.          } &      203.  \\\\\n",
              "\\bottomrule\n",
              "\\end{tabular}\n",
              "%\\caption{OLS Regression Results}\n",
              "\\end{center}\n",
              "\n",
              "Notes: \\newline\n",
              " [1] Standard Errors assume that the covariance matrix of the errors is correctly specified."
            ],
            "text/plain": [
              "<class 'statsmodels.iolib.summary.Summary'>\n",
              "\"\"\"\n",
              "                            OLS Regression Results                            \n",
              "==============================================================================\n",
              "Dep. Variable:       MedianHouseValue   R-squared:                       0.520\n",
              "Model:                            OLS   Adj. R-squared:                  0.520\n",
              "Method:                 Least Squares   F-statistic:                     5592.\n",
              "Date:                Sun, 26 Oct 2025   Prob (F-statistic):               0.00\n",
              "Time:                        13:00:21   Log-Likelihood:                -24664.\n",
              "No. Observations:               20640   AIC:                         4.934e+04\n",
              "Df Residuals:                   20635   BIC:                         4.938e+04\n",
              "Df Model:                           4                                         \n",
              "Covariance Type:            nonrobust                                         \n",
              "==================================================================================\n",
              "                     coef    std err          t      P>|t|      [0.025      0.975]\n",
              "----------------------------------------------------------------------------------\n",
              "Intercept         -0.3310      0.029    -11.482      0.000      -0.388      -0.275\n",
              "AveRooms          -0.0285      0.002    -11.878      0.000      -0.033      -0.024\n",
              "HouseAge           0.0177      0.000     39.193      0.000       0.017       0.019\n",
              "MedInc             0.5965      0.009     67.630      0.000       0.579       0.614\n",
              "MedInc_squared    -0.0140      0.001    -18.627      0.000      -0.016      -0.013\n",
              "==============================================================================\n",
              "Omnibus:                     4548.331   Durbin-Watson:                   0.822\n",
              "Prob(Omnibus):                  0.000   Jarque-Bera (JB):            11933.196\n",
              "Skew:                           1.192   Prob(JB):                         0.00\n",
              "Kurtosis:                       5.862   Cond. No.                         203.\n",
              "==============================================================================\n",
              "\n",
              "Notes:\n",
              "[1] Standard Errors assume that the covariance matrix of the errors is correctly specified.\n",
              "\"\"\""
            ]
          },
          "execution_count": 13,
          "metadata": {},
          "output_type": "execute_result"
        }
      ],
      "source": [
        "# Print the summary\n",
        "nonlinear_model.summary()"
      ]
    },
    {
      "cell_type": "markdown",
      "metadata": {
        "id": "yEb3W_55nGrR"
      },
      "source": [
        "### Step 3\n",
        "\n",
        "Add (again) the same quadratic term, but now also add an interaction term that represents the interaction between `MedInc` and `AveRooms`.\n",
        "\n",
        "Now fit the model using `smf.ols` with the quadratic term, calling this model, `interaction_model`.  Make sure to incluce the variables  `MedInc`, `AveRooms`, and `HouseAge` as well.\n",
        "\n",
        "To verify the model, return the $r^2$ value rounded to six decimal places."
      ]
    },
    {
      "cell_type": "code",
      "execution_count": 15,
      "metadata": {
        "id": "uceKXX3InJKG"
      },
      "outputs": [
        {
          "data": {
            "text/plain": [
              "0.520213"
            ]
          },
          "execution_count": 15,
          "metadata": {},
          "output_type": "execute_result"
        }
      ],
      "source": [
        "# CodeGrade step3\n",
        "interaction_model = smf.ols(formula='MedianHouseValue ~ AveRooms + HouseAge + MedInc + MedInc_squared + MedInc * AveRooms', data=data).fit()\n",
        "r_squared_interaction = interaction_model.rsquared\n",
        "np.round(r_squared_interaction, 6)"
      ]
    },
    {
      "cell_type": "markdown",
      "metadata": {
        "id": "OTMeVrconnNa"
      },
      "source": [
        "Now print the model summary."
      ]
    },
    {
      "cell_type": "code",
      "execution_count": 16,
      "metadata": {
        "id": "tCYSpsBAnPLj"
      },
      "outputs": [
        {
          "data": {
            "text/html": [
              "<table class=\"simpletable\">\n",
              "<caption>OLS Regression Results</caption>\n",
              "<tr>\n",
              "  <th>Dep. Variable:</th>    <td>MedianHouseValue</td> <th>  R-squared:         </th> <td>   0.520</td> \n",
              "</tr>\n",
              "<tr>\n",
              "  <th>Model:</th>                   <td>OLS</td>       <th>  Adj. R-squared:    </th> <td>   0.520</td> \n",
              "</tr>\n",
              "<tr>\n",
              "  <th>Method:</th>             <td>Least Squares</td>  <th>  F-statistic:       </th> <td>   4475.</td> \n",
              "</tr>\n",
              "<tr>\n",
              "  <th>Date:</th>             <td>Sun, 26 Oct 2025</td> <th>  Prob (F-statistic):</th>  <td>  0.00</td>  \n",
              "</tr>\n",
              "<tr>\n",
              "  <th>Time:</th>                 <td>13:03:21</td>     <th>  Log-Likelihood:    </th> <td> -24663.</td> \n",
              "</tr>\n",
              "<tr>\n",
              "  <th>No. Observations:</th>      <td> 20640</td>      <th>  AIC:               </th> <td>4.934e+04</td>\n",
              "</tr>\n",
              "<tr>\n",
              "  <th>Df Residuals:</th>          <td> 20634</td>      <th>  BIC:               </th> <td>4.939e+04</td>\n",
              "</tr>\n",
              "<tr>\n",
              "  <th>Df Model:</th>              <td>     5</td>      <th>                     </th>     <td> </td>    \n",
              "</tr>\n",
              "<tr>\n",
              "  <th>Covariance Type:</th>      <td>nonrobust</td>    <th>                     </th>     <td> </td>    \n",
              "</tr>\n",
              "</table>\n",
              "<table class=\"simpletable\">\n",
              "<tr>\n",
              "         <td></td>            <th>coef</th>     <th>std err</th>      <th>t</th>      <th>P>|t|</th>  <th>[0.025</th>    <th>0.975]</th>  \n",
              "</tr>\n",
              "<tr>\n",
              "  <th>Intercept</th>       <td>   -0.3027</td> <td>    0.036</td> <td>   -8.503</td> <td> 0.000</td> <td>   -0.372</td> <td>   -0.233</td>\n",
              "</tr>\n",
              "<tr>\n",
              "  <th>AveRooms</th>        <td>   -0.0353</td> <td>    0.006</td> <td>   -6.339</td> <td> 0.000</td> <td>   -0.046</td> <td>   -0.024</td>\n",
              "</tr>\n",
              "<tr>\n",
              "  <th>HouseAge</th>        <td>    0.0177</td> <td>    0.000</td> <td>   39.215</td> <td> 0.000</td> <td>    0.017</td> <td>    0.019</td>\n",
              "</tr>\n",
              "<tr>\n",
              "  <th>MedInc</th>          <td>    0.5898</td> <td>    0.010</td> <td>   58.268</td> <td> 0.000</td> <td>    0.570</td> <td>    0.610</td>\n",
              "</tr>\n",
              "<tr>\n",
              "  <th>MedInc_squared</th>  <td>   -0.0147</td> <td>    0.001</td> <td>  -16.381</td> <td> 0.000</td> <td>   -0.016</td> <td>   -0.013</td>\n",
              "</tr>\n",
              "<tr>\n",
              "  <th>MedInc:AveRooms</th> <td>    0.0021</td> <td>    0.002</td> <td>    1.359</td> <td> 0.174</td> <td>   -0.001</td> <td>    0.005</td>\n",
              "</tr>\n",
              "</table>\n",
              "<table class=\"simpletable\">\n",
              "<tr>\n",
              "  <th>Omnibus:</th>       <td>4617.781</td> <th>  Durbin-Watson:     </th> <td>   0.822</td> \n",
              "</tr>\n",
              "<tr>\n",
              "  <th>Prob(Omnibus):</th>  <td> 0.000</td>  <th>  Jarque-Bera (JB):  </th> <td>12429.560</td>\n",
              "</tr>\n",
              "<tr>\n",
              "  <th>Skew:</th>           <td> 1.200</td>  <th>  Prob(JB):          </th> <td>    0.00</td> \n",
              "</tr>\n",
              "<tr>\n",
              "  <th>Kurtosis:</th>       <td> 5.949</td>  <th>  Cond. No.          </th> <td>    308.</td> \n",
              "</tr>\n",
              "</table><br/><br/>Notes:<br/>[1] Standard Errors assume that the covariance matrix of the errors is correctly specified."
            ],
            "text/latex": [
              "\\begin{center}\n",
              "\\begin{tabular}{lclc}\n",
              "\\toprule\n",
              "\\textbf{Dep. Variable:}    & MedianHouseValue & \\textbf{  R-squared:         } &     0.520   \\\\\n",
              "\\textbf{Model:}            &       OLS        & \\textbf{  Adj. R-squared:    } &     0.520   \\\\\n",
              "\\textbf{Method:}           &  Least Squares   & \\textbf{  F-statistic:       } &     4475.   \\\\\n",
              "\\textbf{Date:}             & Sun, 26 Oct 2025 & \\textbf{  Prob (F-statistic):} &     0.00    \\\\\n",
              "\\textbf{Time:}             &     13:03:21     & \\textbf{  Log-Likelihood:    } &   -24663.   \\\\\n",
              "\\textbf{No. Observations:} &       20640      & \\textbf{  AIC:               } & 4.934e+04   \\\\\n",
              "\\textbf{Df Residuals:}     &       20634      & \\textbf{  BIC:               } & 4.939e+04   \\\\\n",
              "\\textbf{Df Model:}         &           5      & \\textbf{                     } &             \\\\\n",
              "\\textbf{Covariance Type:}  &    nonrobust     & \\textbf{                     } &             \\\\\n",
              "\\bottomrule\n",
              "\\end{tabular}\n",
              "\\begin{tabular}{lcccccc}\n",
              "                         & \\textbf{coef} & \\textbf{std err} & \\textbf{t} & \\textbf{P$> |$t$|$} & \\textbf{[0.025} & \\textbf{0.975]}  \\\\\n",
              "\\midrule\n",
              "\\textbf{Intercept}       &      -0.3027  &        0.036     &    -8.503  &         0.000        &       -0.372    &       -0.233     \\\\\n",
              "\\textbf{AveRooms}        &      -0.0353  &        0.006     &    -6.339  &         0.000        &       -0.046    &       -0.024     \\\\\n",
              "\\textbf{HouseAge}        &       0.0177  &        0.000     &    39.215  &         0.000        &        0.017    &        0.019     \\\\\n",
              "\\textbf{MedInc}          &       0.5898  &        0.010     &    58.268  &         0.000        &        0.570    &        0.610     \\\\\n",
              "\\textbf{MedInc\\_squared} &      -0.0147  &        0.001     &   -16.381  &         0.000        &       -0.016    &       -0.013     \\\\\n",
              "\\textbf{MedInc:AveRooms} &       0.0021  &        0.002     &     1.359  &         0.174        &       -0.001    &        0.005     \\\\\n",
              "\\bottomrule\n",
              "\\end{tabular}\n",
              "\\begin{tabular}{lclc}\n",
              "\\textbf{Omnibus:}       & 4617.781 & \\textbf{  Durbin-Watson:     } &     0.822  \\\\\n",
              "\\textbf{Prob(Omnibus):} &   0.000  & \\textbf{  Jarque-Bera (JB):  } & 12429.560  \\\\\n",
              "\\textbf{Skew:}          &   1.200  & \\textbf{  Prob(JB):          } &      0.00  \\\\\n",
              "\\textbf{Kurtosis:}      &   5.949  & \\textbf{  Cond. No.          } &      308.  \\\\\n",
              "\\bottomrule\n",
              "\\end{tabular}\n",
              "%\\caption{OLS Regression Results}\n",
              "\\end{center}\n",
              "\n",
              "Notes: \\newline\n",
              " [1] Standard Errors assume that the covariance matrix of the errors is correctly specified."
            ],
            "text/plain": [
              "<class 'statsmodels.iolib.summary.Summary'>\n",
              "\"\"\"\n",
              "                            OLS Regression Results                            \n",
              "==============================================================================\n",
              "Dep. Variable:       MedianHouseValue   R-squared:                       0.520\n",
              "Model:                            OLS   Adj. R-squared:                  0.520\n",
              "Method:                 Least Squares   F-statistic:                     4475.\n",
              "Date:                Sun, 26 Oct 2025   Prob (F-statistic):               0.00\n",
              "Time:                        13:03:21   Log-Likelihood:                -24663.\n",
              "No. Observations:               20640   AIC:                         4.934e+04\n",
              "Df Residuals:                   20634   BIC:                         4.939e+04\n",
              "Df Model:                           5                                         \n",
              "Covariance Type:            nonrobust                                         \n",
              "===================================================================================\n",
              "                      coef    std err          t      P>|t|      [0.025      0.975]\n",
              "-----------------------------------------------------------------------------------\n",
              "Intercept          -0.3027      0.036     -8.503      0.000      -0.372      -0.233\n",
              "AveRooms           -0.0353      0.006     -6.339      0.000      -0.046      -0.024\n",
              "HouseAge            0.0177      0.000     39.215      0.000       0.017       0.019\n",
              "MedInc              0.5898      0.010     58.268      0.000       0.570       0.610\n",
              "MedInc_squared     -0.0147      0.001    -16.381      0.000      -0.016      -0.013\n",
              "MedInc:AveRooms     0.0021      0.002      1.359      0.174      -0.001       0.005\n",
              "==============================================================================\n",
              "Omnibus:                     4617.781   Durbin-Watson:                   0.822\n",
              "Prob(Omnibus):                  0.000   Jarque-Bera (JB):            12429.560\n",
              "Skew:                           1.200   Prob(JB):                         0.00\n",
              "Kurtosis:                       5.949   Cond. No.                         308.\n",
              "==============================================================================\n",
              "\n",
              "Notes:\n",
              "[1] Standard Errors assume that the covariance matrix of the errors is correctly specified.\n",
              "\"\"\""
            ]
          },
          "execution_count": 16,
          "metadata": {},
          "output_type": "execute_result"
        }
      ],
      "source": [
        "# Print the summary\n",
        "interaction_model.summary()"
      ]
    },
    {
      "cell_type": "markdown",
      "metadata": {
        "id": "3iPgPY_onoGH"
      },
      "source": [
        "### Step 4\n",
        "\n",
        "Add (again) the same quadratic term as in the previous two steps.\n",
        "\n",
        "Create an indicator variable by\n",
        "1.   Find the median of `MedInc`, call this `median_income_threshold`\n",
        "2.   Adding a new variable to the data set callede `HighIncome` that assigns a 1 to any value strictly greater than the median, and otherwise it assigns a 0.\n",
        "\n",
        "Now fit the model using `smf.ols` with the quadratic term and indicator variable, calling this model, `indicator_model`.  Make sure to incluce the variables  `MedInc`, `AveRooms`, and `HouseAge` as well.\n",
        "\n",
        "To verify the model, return the $r^2$ value rounded to six decimal places."
      ]
    },
    {
      "cell_type": "code",
      "execution_count": 18,
      "metadata": {
        "id": "7gy6DMoVnrHW"
      },
      "outputs": [
        {
          "data": {
            "text/plain": [
              "0.520496"
            ]
          },
          "execution_count": 18,
          "metadata": {},
          "output_type": "execute_result"
        }
      ],
      "source": [
        "# CodeGrade step4\n",
        "median_income_threshold = data['MedInc'].median()\n",
        "data['HighIncome'] = np.where(data['MedInc'] > median_income_threshold, 1, 0)\n",
        "indicator_model = smf.ols(formula='MedianHouseValue ~ AveRooms + HouseAge + MedInc + MedInc_squared + HighIncome', data=data).fit()\n",
        "r_squared_indicator = indicator_model.rsquared\n",
        "np.round(r_squared_indicator, 6)"
      ]
    },
    {
      "cell_type": "markdown",
      "metadata": {
        "id": "FGe2K0VYnq1u"
      },
      "source": [
        "Now print the model summary."
      ]
    },
    {
      "cell_type": "code",
      "execution_count": 19,
      "metadata": {
        "id": "oKmmBxoKn9Dt"
      },
      "outputs": [
        {
          "data": {
            "text/html": [
              "<table class=\"simpletable\">\n",
              "<caption>OLS Regression Results</caption>\n",
              "<tr>\n",
              "  <th>Dep. Variable:</th>    <td>MedianHouseValue</td> <th>  R-squared:         </th> <td>   0.520</td> \n",
              "</tr>\n",
              "<tr>\n",
              "  <th>Model:</th>                   <td>OLS</td>       <th>  Adj. R-squared:    </th> <td>   0.520</td> \n",
              "</tr>\n",
              "<tr>\n",
              "  <th>Method:</th>             <td>Least Squares</td>  <th>  F-statistic:       </th> <td>   4480.</td> \n",
              "</tr>\n",
              "<tr>\n",
              "  <th>Date:</th>             <td>Sun, 26 Oct 2025</td> <th>  Prob (F-statistic):</th>  <td>  0.00</td>  \n",
              "</tr>\n",
              "<tr>\n",
              "  <th>Time:</th>                 <td>13:07:02</td>     <th>  Log-Likelihood:    </th> <td> -24657.</td> \n",
              "</tr>\n",
              "<tr>\n",
              "  <th>No. Observations:</th>      <td> 20640</td>      <th>  AIC:               </th> <td>4.933e+04</td>\n",
              "</tr>\n",
              "<tr>\n",
              "  <th>Df Residuals:</th>          <td> 20634</td>      <th>  BIC:               </th> <td>4.937e+04</td>\n",
              "</tr>\n",
              "<tr>\n",
              "  <th>Df Model:</th>              <td>     5</td>      <th>                     </th>     <td> </td>    \n",
              "</tr>\n",
              "<tr>\n",
              "  <th>Covariance Type:</th>      <td>nonrobust</td>    <th>                     </th>     <td> </td>    \n",
              "</tr>\n",
              "</table>\n",
              "<table class=\"simpletable\">\n",
              "<tr>\n",
              "         <td></td>           <th>coef</th>     <th>std err</th>      <th>t</th>      <th>P>|t|</th>  <th>[0.025</th>    <th>0.975]</th>  \n",
              "</tr>\n",
              "<tr>\n",
              "  <th>Intercept</th>      <td>   -0.3966</td> <td>    0.034</td> <td>  -11.760</td> <td> 0.000</td> <td>   -0.463</td> <td>   -0.330</td>\n",
              "</tr>\n",
              "<tr>\n",
              "  <th>AveRooms</th>       <td>   -0.0284</td> <td>    0.002</td> <td>  -11.862</td> <td> 0.000</td> <td>   -0.033</td> <td>   -0.024</td>\n",
              "</tr>\n",
              "<tr>\n",
              "  <th>HouseAge</th>       <td>    0.0177</td> <td>    0.000</td> <td>   39.246</td> <td> 0.000</td> <td>    0.017</td> <td>    0.019</td>\n",
              "</tr>\n",
              "<tr>\n",
              "  <th>MedInc</th>         <td>    0.6325</td> <td>    0.013</td> <td>   48.507</td> <td> 0.000</td> <td>    0.607</td> <td>    0.658</td>\n",
              "</tr>\n",
              "<tr>\n",
              "  <th>MedInc_squared</th> <td>   -0.0160</td> <td>    0.001</td> <td>  -17.341</td> <td> 0.000</td> <td>   -0.018</td> <td>   -0.014</td>\n",
              "</tr>\n",
              "<tr>\n",
              "  <th>HighIncome</th>     <td>   -0.0741</td> <td>    0.020</td> <td>   -3.744</td> <td> 0.000</td> <td>   -0.113</td> <td>   -0.035</td>\n",
              "</tr>\n",
              "</table>\n",
              "<table class=\"simpletable\">\n",
              "<tr>\n",
              "  <th>Omnibus:</th>       <td>4600.521</td> <th>  Durbin-Watson:     </th> <td>   0.824</td> \n",
              "</tr>\n",
              "<tr>\n",
              "  <th>Prob(Omnibus):</th>  <td> 0.000</td>  <th>  Jarque-Bera (JB):  </th> <td>12195.535</td>\n",
              "</tr>\n",
              "<tr>\n",
              "  <th>Skew:</th>           <td> 1.201</td>  <th>  Prob(JB):          </th> <td>    0.00</td> \n",
              "</tr>\n",
              "<tr>\n",
              "  <th>Kurtosis:</th>       <td> 5.900</td>  <th>  Cond. No.          </th> <td>    258.</td> \n",
              "</tr>\n",
              "</table><br/><br/>Notes:<br/>[1] Standard Errors assume that the covariance matrix of the errors is correctly specified."
            ],
            "text/latex": [
              "\\begin{center}\n",
              "\\begin{tabular}{lclc}\n",
              "\\toprule\n",
              "\\textbf{Dep. Variable:}    & MedianHouseValue & \\textbf{  R-squared:         } &     0.520   \\\\\n",
              "\\textbf{Model:}            &       OLS        & \\textbf{  Adj. R-squared:    } &     0.520   \\\\\n",
              "\\textbf{Method:}           &  Least Squares   & \\textbf{  F-statistic:       } &     4480.   \\\\\n",
              "\\textbf{Date:}             & Sun, 26 Oct 2025 & \\textbf{  Prob (F-statistic):} &     0.00    \\\\\n",
              "\\textbf{Time:}             &     13:07:02     & \\textbf{  Log-Likelihood:    } &   -24657.   \\\\\n",
              "\\textbf{No. Observations:} &       20640      & \\textbf{  AIC:               } & 4.933e+04   \\\\\n",
              "\\textbf{Df Residuals:}     &       20634      & \\textbf{  BIC:               } & 4.937e+04   \\\\\n",
              "\\textbf{Df Model:}         &           5      & \\textbf{                     } &             \\\\\n",
              "\\textbf{Covariance Type:}  &    nonrobust     & \\textbf{                     } &             \\\\\n",
              "\\bottomrule\n",
              "\\end{tabular}\n",
              "\\begin{tabular}{lcccccc}\n",
              "                         & \\textbf{coef} & \\textbf{std err} & \\textbf{t} & \\textbf{P$> |$t$|$} & \\textbf{[0.025} & \\textbf{0.975]}  \\\\\n",
              "\\midrule\n",
              "\\textbf{Intercept}       &      -0.3966  &        0.034     &   -11.760  &         0.000        &       -0.463    &       -0.330     \\\\\n",
              "\\textbf{AveRooms}        &      -0.0284  &        0.002     &   -11.862  &         0.000        &       -0.033    &       -0.024     \\\\\n",
              "\\textbf{HouseAge}        &       0.0177  &        0.000     &    39.246  &         0.000        &        0.017    &        0.019     \\\\\n",
              "\\textbf{MedInc}          &       0.6325  &        0.013     &    48.507  &         0.000        &        0.607    &        0.658     \\\\\n",
              "\\textbf{MedInc\\_squared} &      -0.0160  &        0.001     &   -17.341  &         0.000        &       -0.018    &       -0.014     \\\\\n",
              "\\textbf{HighIncome}      &      -0.0741  &        0.020     &    -3.744  &         0.000        &       -0.113    &       -0.035     \\\\\n",
              "\\bottomrule\n",
              "\\end{tabular}\n",
              "\\begin{tabular}{lclc}\n",
              "\\textbf{Omnibus:}       & 4600.521 & \\textbf{  Durbin-Watson:     } &     0.824  \\\\\n",
              "\\textbf{Prob(Omnibus):} &   0.000  & \\textbf{  Jarque-Bera (JB):  } & 12195.535  \\\\\n",
              "\\textbf{Skew:}          &   1.201  & \\textbf{  Prob(JB):          } &      0.00  \\\\\n",
              "\\textbf{Kurtosis:}      &   5.900  & \\textbf{  Cond. No.          } &      258.  \\\\\n",
              "\\bottomrule\n",
              "\\end{tabular}\n",
              "%\\caption{OLS Regression Results}\n",
              "\\end{center}\n",
              "\n",
              "Notes: \\newline\n",
              " [1] Standard Errors assume that the covariance matrix of the errors is correctly specified."
            ],
            "text/plain": [
              "<class 'statsmodels.iolib.summary.Summary'>\n",
              "\"\"\"\n",
              "                            OLS Regression Results                            \n",
              "==============================================================================\n",
              "Dep. Variable:       MedianHouseValue   R-squared:                       0.520\n",
              "Model:                            OLS   Adj. R-squared:                  0.520\n",
              "Method:                 Least Squares   F-statistic:                     4480.\n",
              "Date:                Sun, 26 Oct 2025   Prob (F-statistic):               0.00\n",
              "Time:                        13:07:02   Log-Likelihood:                -24657.\n",
              "No. Observations:               20640   AIC:                         4.933e+04\n",
              "Df Residuals:                   20634   BIC:                         4.937e+04\n",
              "Df Model:                           5                                         \n",
              "Covariance Type:            nonrobust                                         \n",
              "==================================================================================\n",
              "                     coef    std err          t      P>|t|      [0.025      0.975]\n",
              "----------------------------------------------------------------------------------\n",
              "Intercept         -0.3966      0.034    -11.760      0.000      -0.463      -0.330\n",
              "AveRooms          -0.0284      0.002    -11.862      0.000      -0.033      -0.024\n",
              "HouseAge           0.0177      0.000     39.246      0.000       0.017       0.019\n",
              "MedInc             0.6325      0.013     48.507      0.000       0.607       0.658\n",
              "MedInc_squared    -0.0160      0.001    -17.341      0.000      -0.018      -0.014\n",
              "HighIncome        -0.0741      0.020     -3.744      0.000      -0.113      -0.035\n",
              "==============================================================================\n",
              "Omnibus:                     4600.521   Durbin-Watson:                   0.824\n",
              "Prob(Omnibus):                  0.000   Jarque-Bera (JB):            12195.535\n",
              "Skew:                           1.201   Prob(JB):                         0.00\n",
              "Kurtosis:                       5.900   Cond. No.                         258.\n",
              "==============================================================================\n",
              "\n",
              "Notes:\n",
              "[1] Standard Errors assume that the covariance matrix of the errors is correctly specified.\n",
              "\"\"\""
            ]
          },
          "execution_count": 19,
          "metadata": {},
          "output_type": "execute_result"
        }
      ],
      "source": [
        "# Print the summary\n",
        "indicator_model.summary()"
      ]
    },
    {
      "cell_type": "markdown",
      "metadata": {
        "id": "NgwsRwBkoBk3"
      },
      "source": [
        "### Step 5\n",
        "\n",
        "Add (again) the same quadratic term, but now also add an log transformed term of `AveRooms` called `log_AveRooms`.\n",
        "\n",
        "Now fit the model using `smf.ols` with the quadratic term, calling this model, `log_model`.  Make sure to incluce the variables  `MedInc`, `AveRooms`, and `HouseAge` as well.\n",
        "\n",
        "To verify the model, return the $r^2$ value rounded to six decimal places."
      ]
    },
    {
      "cell_type": "code",
      "execution_count": 21,
      "metadata": {
        "id": "-8h_k1dKt0bq"
      },
      "outputs": [
        {
          "data": {
            "text/plain": [
              "0.54855"
            ]
          },
          "execution_count": 21,
          "metadata": {},
          "output_type": "execute_result"
        }
      ],
      "source": [
        "# CodeGrade step5\n",
        "log_AveRooms = np.log(data['AveRooms'])\n",
        "log_model = smf.ols(formula='MedianHouseValue ~ AveRooms + HouseAge + MedInc + MedInc_squared + log_AveRooms', data=data).fit()\n",
        "r_squared_log = log_model.rsquared\n",
        "np.round(r_squared_log, 6)"
      ]
    },
    {
      "cell_type": "markdown",
      "metadata": {
        "id": "5jMX-K7mnsIV"
      },
      "source": [
        "Now print the model summary."
      ]
    },
    {
      "cell_type": "code",
      "execution_count": 22,
      "metadata": {
        "id": "Dnk06R25t-Yx"
      },
      "outputs": [
        {
          "data": {
            "text/html": [
              "<table class=\"simpletable\">\n",
              "<caption>OLS Regression Results</caption>\n",
              "<tr>\n",
              "  <th>Dep. Variable:</th>    <td>MedianHouseValue</td> <th>  R-squared:         </th> <td>   0.549</td> \n",
              "</tr>\n",
              "<tr>\n",
              "  <th>Model:</th>                   <td>OLS</td>       <th>  Adj. R-squared:    </th> <td>   0.548</td> \n",
              "</tr>\n",
              "<tr>\n",
              "  <th>Method:</th>             <td>Least Squares</td>  <th>  F-statistic:       </th> <td>   5014.</td> \n",
              "</tr>\n",
              "<tr>\n",
              "  <th>Date:</th>             <td>Sun, 26 Oct 2025</td> <th>  Prob (F-statistic):</th>  <td>  0.00</td>  \n",
              "</tr>\n",
              "<tr>\n",
              "  <th>Time:</th>                 <td>13:09:03</td>     <th>  Log-Likelihood:    </th> <td> -24035.</td> \n",
              "</tr>\n",
              "<tr>\n",
              "  <th>No. Observations:</th>      <td> 20640</td>      <th>  AIC:               </th> <td>4.808e+04</td>\n",
              "</tr>\n",
              "<tr>\n",
              "  <th>Df Residuals:</th>          <td> 20634</td>      <th>  BIC:               </th> <td>4.813e+04</td>\n",
              "</tr>\n",
              "<tr>\n",
              "  <th>Df Model:</th>              <td>     5</td>      <th>                     </th>     <td> </td>    \n",
              "</tr>\n",
              "<tr>\n",
              "  <th>Covariance Type:</th>      <td>nonrobust</td>    <th>                     </th>     <td> </td>    \n",
              "</tr>\n",
              "</table>\n",
              "<table class=\"simpletable\">\n",
              "<tr>\n",
              "         <td></td>           <th>coef</th>     <th>std err</th>      <th>t</th>      <th>P>|t|</th>  <th>[0.025</th>    <th>0.975]</th>  \n",
              "</tr>\n",
              "<tr>\n",
              "  <th>Intercept</th>      <td>    1.0824</td> <td>    0.048</td> <td>   22.461</td> <td> 0.000</td> <td>    0.988</td> <td>    1.177</td>\n",
              "</tr>\n",
              "<tr>\n",
              "  <th>AveRooms</th>       <td>    0.0754</td> <td>    0.004</td> <td>   20.342</td> <td> 0.000</td> <td>    0.068</td> <td>    0.083</td>\n",
              "</tr>\n",
              "<tr>\n",
              "  <th>HouseAge</th>       <td>    0.0157</td> <td>    0.000</td> <td>   35.640</td> <td> 0.000</td> <td>    0.015</td> <td>    0.017</td>\n",
              "</tr>\n",
              "<tr>\n",
              "  <th>MedInc</th>         <td>    0.7159</td> <td>    0.009</td> <td>   78.024</td> <td> 0.000</td> <td>    0.698</td> <td>    0.734</td>\n",
              "</tr>\n",
              "<tr>\n",
              "  <th>MedInc_squared</th> <td>   -0.0190</td> <td>    0.001</td> <td>  -25.540</td> <td> 0.000</td> <td>   -0.020</td> <td>   -0.018</td>\n",
              "</tr>\n",
              "<tr>\n",
              "  <th>log_AveRooms</th>   <td>   -1.3904</td> <td>    0.039</td> <td>  -36.016</td> <td> 0.000</td> <td>   -1.466</td> <td>   -1.315</td>\n",
              "</tr>\n",
              "</table>\n",
              "<table class=\"simpletable\">\n",
              "<tr>\n",
              "  <th>Omnibus:</th>       <td>4086.408</td> <th>  Durbin-Watson:     </th> <td>   0.939</td> \n",
              "</tr>\n",
              "<tr>\n",
              "  <th>Prob(Omnibus):</th>  <td> 0.000</td>  <th>  Jarque-Bera (JB):  </th> <td>10719.154</td>\n",
              "</tr>\n",
              "<tr>\n",
              "  <th>Skew:</th>           <td> 1.076</td>  <th>  Prob(JB):          </th> <td>    0.00</td> \n",
              "</tr>\n",
              "<tr>\n",
              "  <th>Kurtosis:</th>       <td> 5.799</td>  <th>  Cond. No.          </th> <td>    419.</td> \n",
              "</tr>\n",
              "</table><br/><br/>Notes:<br/>[1] Standard Errors assume that the covariance matrix of the errors is correctly specified."
            ],
            "text/latex": [
              "\\begin{center}\n",
              "\\begin{tabular}{lclc}\n",
              "\\toprule\n",
              "\\textbf{Dep. Variable:}    & MedianHouseValue & \\textbf{  R-squared:         } &     0.549   \\\\\n",
              "\\textbf{Model:}            &       OLS        & \\textbf{  Adj. R-squared:    } &     0.548   \\\\\n",
              "\\textbf{Method:}           &  Least Squares   & \\textbf{  F-statistic:       } &     5014.   \\\\\n",
              "\\textbf{Date:}             & Sun, 26 Oct 2025 & \\textbf{  Prob (F-statistic):} &     0.00    \\\\\n",
              "\\textbf{Time:}             &     13:09:03     & \\textbf{  Log-Likelihood:    } &   -24035.   \\\\\n",
              "\\textbf{No. Observations:} &       20640      & \\textbf{  AIC:               } & 4.808e+04   \\\\\n",
              "\\textbf{Df Residuals:}     &       20634      & \\textbf{  BIC:               } & 4.813e+04   \\\\\n",
              "\\textbf{Df Model:}         &           5      & \\textbf{                     } &             \\\\\n",
              "\\textbf{Covariance Type:}  &    nonrobust     & \\textbf{                     } &             \\\\\n",
              "\\bottomrule\n",
              "\\end{tabular}\n",
              "\\begin{tabular}{lcccccc}\n",
              "                         & \\textbf{coef} & \\textbf{std err} & \\textbf{t} & \\textbf{P$> |$t$|$} & \\textbf{[0.025} & \\textbf{0.975]}  \\\\\n",
              "\\midrule\n",
              "\\textbf{Intercept}       &       1.0824  &        0.048     &    22.461  &         0.000        &        0.988    &        1.177     \\\\\n",
              "\\textbf{AveRooms}        &       0.0754  &        0.004     &    20.342  &         0.000        &        0.068    &        0.083     \\\\\n",
              "\\textbf{HouseAge}        &       0.0157  &        0.000     &    35.640  &         0.000        &        0.015    &        0.017     \\\\\n",
              "\\textbf{MedInc}          &       0.7159  &        0.009     &    78.024  &         0.000        &        0.698    &        0.734     \\\\\n",
              "\\textbf{MedInc\\_squared} &      -0.0190  &        0.001     &   -25.540  &         0.000        &       -0.020    &       -0.018     \\\\\n",
              "\\textbf{log\\_AveRooms}   &      -1.3904  &        0.039     &   -36.016  &         0.000        &       -1.466    &       -1.315     \\\\\n",
              "\\bottomrule\n",
              "\\end{tabular}\n",
              "\\begin{tabular}{lclc}\n",
              "\\textbf{Omnibus:}       & 4086.408 & \\textbf{  Durbin-Watson:     } &     0.939  \\\\\n",
              "\\textbf{Prob(Omnibus):} &   0.000  & \\textbf{  Jarque-Bera (JB):  } & 10719.154  \\\\\n",
              "\\textbf{Skew:}          &   1.076  & \\textbf{  Prob(JB):          } &      0.00  \\\\\n",
              "\\textbf{Kurtosis:}      &   5.799  & \\textbf{  Cond. No.          } &      419.  \\\\\n",
              "\\bottomrule\n",
              "\\end{tabular}\n",
              "%\\caption{OLS Regression Results}\n",
              "\\end{center}\n",
              "\n",
              "Notes: \\newline\n",
              " [1] Standard Errors assume that the covariance matrix of the errors is correctly specified."
            ],
            "text/plain": [
              "<class 'statsmodels.iolib.summary.Summary'>\n",
              "\"\"\"\n",
              "                            OLS Regression Results                            \n",
              "==============================================================================\n",
              "Dep. Variable:       MedianHouseValue   R-squared:                       0.549\n",
              "Model:                            OLS   Adj. R-squared:                  0.548\n",
              "Method:                 Least Squares   F-statistic:                     5014.\n",
              "Date:                Sun, 26 Oct 2025   Prob (F-statistic):               0.00\n",
              "Time:                        13:09:03   Log-Likelihood:                -24035.\n",
              "No. Observations:               20640   AIC:                         4.808e+04\n",
              "Df Residuals:                   20634   BIC:                         4.813e+04\n",
              "Df Model:                           5                                         \n",
              "Covariance Type:            nonrobust                                         \n",
              "==================================================================================\n",
              "                     coef    std err          t      P>|t|      [0.025      0.975]\n",
              "----------------------------------------------------------------------------------\n",
              "Intercept          1.0824      0.048     22.461      0.000       0.988       1.177\n",
              "AveRooms           0.0754      0.004     20.342      0.000       0.068       0.083\n",
              "HouseAge           0.0157      0.000     35.640      0.000       0.015       0.017\n",
              "MedInc             0.7159      0.009     78.024      0.000       0.698       0.734\n",
              "MedInc_squared    -0.0190      0.001    -25.540      0.000      -0.020      -0.018\n",
              "log_AveRooms      -1.3904      0.039    -36.016      0.000      -1.466      -1.315\n",
              "==============================================================================\n",
              "Omnibus:                     4086.408   Durbin-Watson:                   0.939\n",
              "Prob(Omnibus):                  0.000   Jarque-Bera (JB):            10719.154\n",
              "Skew:                           1.076   Prob(JB):                         0.00\n",
              "Kurtosis:                       5.799   Cond. No.                         419.\n",
              "==============================================================================\n",
              "\n",
              "Notes:\n",
              "[1] Standard Errors assume that the covariance matrix of the errors is correctly specified.\n",
              "\"\"\""
            ]
          },
          "execution_count": 22,
          "metadata": {},
          "output_type": "execute_result"
        }
      ],
      "source": [
        "# Print the summary\n",
        "log_model.summary()"
      ]
    },
    {
      "cell_type": "markdown",
      "metadata": {
        "id": "AxlQtEaJn3r5"
      },
      "source": [
        "### Step 6\n",
        "\n",
        "Return the shape of `log_model`'s residuals."
      ]
    },
    {
      "cell_type": "code",
      "execution_count": 23,
      "metadata": {
        "id": "8KfmMoX7vA9i"
      },
      "outputs": [
        {
          "data": {
            "text/plain": [
              "(20640,)"
            ]
          },
          "execution_count": 23,
          "metadata": {},
          "output_type": "execute_result"
        }
      ],
      "source": [
        "# CodeGrade step6\n",
        "log_residuals = log_model.resid\n",
        "log_residuals.shape"
      ]
    },
    {
      "cell_type": "markdown",
      "metadata": {
        "id": "AtnPoDrtnt4s"
      },
      "source": [
        "Now for the log model, plot the resisuals vs. the fitted values and the Q-Q plot."
      ]
    },
    {
      "cell_type": "code",
      "execution_count": 32,
      "metadata": {
        "id": "33ENVOtxuSZo"
      },
      "outputs": [
        {
          "data": {
            "image/png": "[encoded data removed]",
            "text/plain": [
              "<Figure size 640x480 with 1 Axes>"
            ]
          },
          "metadata": {},
          "output_type": "display_data"
        },
        {
          "data": {
            "image/png": "[encoded data removed]",
            "text/plain": [
              "<Figure size 640x480 with 1 Axes>"
            ]
          },
          "metadata": {},
          "output_type": "display_data"
        }
      ],
      "source": [
        "# Residuals vs. Fitted Plot\n",
        "sns.residplot(x=log_model.fittedvalues, y=log_model.resid, lowess=True, line_kws={\"color\": \"red\"}, scatter_kws={\"s\": 5, \"alpha\": 0.1})\n",
        "plt.xlabel(\"Fitted Values\")\n",
        "plt.ylabel(\"Residuals\")\n",
        "plt.title(\"Residuals vs Fitted Plot (Log-Transformed Model)\")\n",
        "plt.show()\n",
        "\n",
        "# Q-Q Plot\n",
        "fig = sm.qqplot(log_residuals, line='45')\n",
        "plt.show()"
      ]
    }
  ],
  "metadata": {
    "colab": {
      "provenance": []
    },
    "kernelspec": {
      "display_name": "Python (win_c0c1)",
      "language": "python",
      "name": "win_c0c1"
    },
    "language_info": {
      "codemirror_mode": {
        "name": "ipython",
        "version": 3
      },
      "file_extension": ".py",
      "mimetype": "text/x-python",
      "name": "python",
      "nbconvert_exporter": "python",
      "pygments_lexer": "ipython3",
      "version": "3.12.4"
    }
  },
  "nbformat": 4,
  "nbformat_minor": 0
}
